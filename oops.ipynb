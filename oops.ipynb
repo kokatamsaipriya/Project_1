{
 "cells": [
  {
   "cell_type": "code",
   "execution_count": 3,
   "id": "7e589cf0-6be9-4d2e-a41c-9bd3cd8da002",
   "metadata": {},
   "outputs": [],
   "source": [
    "# oops"
   ]
  },
  {
   "cell_type": "code",
   "execution_count": null,
   "id": "a0d57a47-f203-48fd-8782-12c6722e5f57",
   "metadata": {},
   "outputs": [],
   "source": [
    "topic class\n",
    "-----data menbers\n",
    "---------------------instance  data menber \n",
    "...instance data menber which means everytime different like name , age , roolno it like dynamic\n",
    "------------------------------------class  data menber\n",
    "....class datamenber means always same like college name and location like static\n",
    "===================================================================================\n",
    "    "
   ]
  },
  {
   "cell_type": "code",
   "execution_count": 42,
   "id": "524155cc-3231-4f1a-b685-ad720a3b76a3",
   "metadata": {},
   "outputs": [],
   "source": [
    "# examples of instance data menbers"
   ]
  },
  {
   "cell_type": "code",
   "execution_count": 23,
   "id": "d79d9e39-33c0-47b4-97a8-4cad494fa308",
   "metadata": {},
   "outputs": [
    {
     "name": "stdout",
     "output_type": "stream",
     "text": [
      "the content is {} {}\n",
      "the content is{} {}\n"
     ]
    }
   ],
   "source": [
    "# just passing the varaiable\n",
    "class sai():\n",
    "    pass\n",
    "s1=sai()\n",
    "s2=sai()\n",
    "print(\"the content is {}\",s1.__dict__)\n",
    "print(\"the content is{}\",s2.__dict__)\n"
   ]
  },
  {
   "cell_type": "code",
   "execution_count": 17,
   "id": "7e7e53ae-e7a4-4a7d-9679-1ab4501562c8",
   "metadata": {},
   "outputs": [
    {
     "name": "stdin",
     "output_type": "stream",
     "text": [
      " 1\n",
      " 2\n"
     ]
    },
    {
     "name": "stdout",
     "output_type": "stream",
     "text": [
      "the contentis{} {'sna': 1, 'sname': 2}\n",
      "the secound content is{} {'sna': 10, 'sname': 'priya'}\n"
     ]
    }
   ],
   "source": [
    "# creating the content and calling by using the dict\n",
    "class sai:\n",
    "    pass\n",
    "s1=sai()\n",
    "s2=sai()\n",
    "s1.sna=int(input())\n",
    "s1.sname=int(input())\n",
    "s2.sna=10\n",
    "s2.sname=\"priya\"\n",
    "print(\"the contentis{}\",s1.__dict__)\n",
    "print(\"the secound content is{}\",s2.__dict__)\n",
    "here sna and sname are instance allways changing\n"
   ]
  },
  {
   "cell_type": "code",
   "execution_count": 29,
   "id": "d055b863-df1d-4833-be2e-674f1dc05371",
   "metadata": {},
   "outputs": [
    {
     "name": "stdin",
     "output_type": "stream",
     "text": [
      " 1\n",
      " 2\n"
     ]
    },
    {
     "name": "stdout",
     "output_type": "stream",
     "text": [
      "the content is 1\n",
      "the content is 2\n",
      "the content is 10\n",
      "the content is priya\n"
     ]
    }
   ],
   "source": [
    "# after adding the content and calling by using format method\n",
    "class sai:\n",
    "    pass\n",
    "s1=sai()\n",
    "s2=sai()\n",
    "s1.sna=int(input())\n",
    "s1.sname=int(input())\n",
    "s2.sna=10\n",
    "s2.sname=\"priya\"\n",
    "print(\"the content is {}\".format(s1.sna))\n",
    "print(\"the content is {}\".format(s1.sname))\n",
    "print(\"the content is {}\".format(s2.sna))\n",
    "print(\"the content is {}\".format(s2.sname))\n"
   ]
  },
  {
   "cell_type": "code",
   "execution_count": 35,
   "id": "553c3b29-b3e8-4514-8aa0-e1a5a01139c2",
   "metadata": {},
   "outputs": [
    {
     "name": "stdin",
     "output_type": "stream",
     "text": [
      " 1\n",
      " 2\n"
     ]
    },
    {
     "name": "stdout",
     "output_type": "stream",
     "text": [
      "sna and its value 1\n",
      "sname and its value 2\n",
      "sna the key and its value is10\n",
      "sname the key and its value ispriya\n"
     ]
    }
   ],
   "source": [
    "# after adding the content and calling by using key and value method\n",
    "class sai:\n",
    "    pass\n",
    "s1=sai()\n",
    "s2=sai()\n",
    "s1.sna=int(input())\n",
    "s1.sname=int(input())\n",
    "s2.sna=10\n",
    "s2.sname=\"priya\"\n",
    "for i, j in s1.__dict__.items():\n",
    "    print(\"{} and its value {}\".format(i,j))\n",
    "for k,v in s2.__dict__.items():\n",
    "    print(\"{} the key and its value is{}\".format(k,v))"
   ]
  },
  {
   "cell_type": "code",
   "execution_count": 37,
   "id": "1e0e89b5-148c-47f6-b723-9d91dbdadd5c",
   "metadata": {},
   "outputs": [],
   "source": [
    "# completed one topic "
   ]
  },
  {
   "cell_type": "code",
   "execution_count": 44,
   "id": "a5374b1a-5fa2-437c-8f2a-faa029a9bd57",
   "metadata": {},
   "outputs": [],
   "source": [
    "# class data members"
   ]
  },
  {
   "cell_type": "code",
   "execution_count": 62,
   "id": "93f2bd7f-8109-40a3-ac17-c87f023165ff",
   "metadata": {},
   "outputs": [
    {
     "name": "stdout",
     "output_type": "stream",
     "text": [
      "the s1 is hyd\n",
      "the s2 is {} {}\n"
     ]
    }
   ],
   "source": [
    "class data:\n",
    "    place=\"hyd\"\n",
    "s1=data()\n",
    "s2=data()\n",
    "print(\"the s1 is {}\".format(s1.place))\n",
    "print(\"the s2 is {}\",s2.__dict__)"
   ]
  },
  {
   "cell_type": "code",
   "execution_count": 64,
   "id": "1523d033-c268-404b-9f90-30b89916ae88",
   "metadata": {},
   "outputs": [
    {
     "name": "stdout",
     "output_type": "stream",
     "text": [
      "the s1 is hyd\n",
      "the s2 is {} {}\n"
     ]
    }
   ],
   "source": [
    "class data:\n",
    "    place=\"hyd\"\n",
    "s1=data()\n",
    "s2=data()\n",
    "print(\"the s1 is {}\".format(data.place))\n",
    "print(\"the s2 is {}\",s2.__dict__)"
   ]
  },
  {
   "cell_type": "code",
   "execution_count": 86,
   "id": "c444170c-89ff-4ea0-930d-daf928af2d90",
   "metadata": {},
   "outputs": [
    {
     "name": "stdout",
     "output_type": "stream",
     "text": [
      "the s1 is hyd\n",
      "the s2 is hyd\n"
     ]
    }
   ],
   "source": [
    "class data:\n",
    "    place=\"hyd\"\n",
    "s1=data()\n",
    "s2=data()\n",
    "print(\"the s1 is {}\".format(s1.place))---->accesing byusing object\n",
    "print(\"the s2 is {}\".format(data.place))----->acessing by using class"
   ]
  },
  {
   "cell_type": "code",
   "execution_count": null,
   "id": "11be2153-315e-4805-bd40-14f886e3ae91",
   "metadata": {},
   "outputs": [],
   "source": [
    "methods \n",
    "--- 3 types\n",
    "==================\n",
    "    ---------------1.instance method\n",
    "    ---------------2.class method\n",
    "    ----------------3.static method\n",
    "===================="
   ]
  },
  {
   "cell_type": "code",
   "execution_count": 90,
   "id": "766f3499-0bfa-4651-88bc-bbb4acf8857e",
   "metadata": {},
   "outputs": [],
   "source": [
    "# 1.instance method"
   ]
  },
  {
   "cell_type": "code",
   "execution_count": 11,
   "id": "0e168dc9-ac7f-4099-9dcf-1df38befb82b",
   "metadata": {},
   "outputs": [
    {
     "name": "stdout",
     "output_type": "stream",
     "text": [
      "the first content {'sna': 10, 'sname': 'priya'}\n",
      "the second content  {'sna': 11, 'sname': 'pp'}\n"
     ]
    }
   ],
   "source": [
    "class priya:\n",
    "    def sai(self):\n",
    "        self.sna=10\n",
    "        self.sname=\"priya\"\n",
    "        print(\"the first content\",self.__dict__)\n",
    "    def priya1(self):\n",
    "        self.sna=11\n",
    "        self.sname=\"pp\"\n",
    "        print(\"the second content \",self.__dict__)\n",
    "s1=priya()\n",
    "s1.sai()\n",
    "s1.priya1()"
   ]
  },
  {
   "cell_type": "code",
   "execution_count": 45,
   "id": "63ed2689-32b2-4621-b4b4-7aef84a6f98a",
   "metadata": {},
   "outputs": [
    {
     "name": "stdout",
     "output_type": "stream",
     "text": [
      "the anser10\n",
      "the anserpriya\n",
      "the anser11\n",
      "the anserpp\n"
     ]
    }
   ],
   "source": [
    "class priya:    \n",
    "    def my(self):\n",
    "        self.sna=10\n",
    "        self.sname=\"priya\"\n",
    "    def priya1(self):\n",
    "        self.sna=11\n",
    "        self.sname=\"pp\"\n",
    "    def display(self):\n",
    "        print(\"the anser{}\".format(self.sna))----------calling by using self\n",
    "        print(\"the anser{}\".format(self.sname))----------calling by using self\n",
    "      \n",
    "s1=priya()\n",
    "s1.my()\n",
    "s1.display()\n",
    "s2=priya()\n",
    "s2.priya1()\n",
    "s2.display()"
   ]
  },
  {
   "cell_type": "code",
   "execution_count": 23,
   "id": "04cff0e7-9d23-4539-a1ee-ef93bf427af1",
   "metadata": {},
   "outputs": [
    {
     "name": "stdout",
     "output_type": "stream",
     "text": [
      "10 and p\n"
     ]
    }
   ],
   "source": [
    "class sai :\n",
    "    def priya(self):\n",
    "        self.sna=10\n",
    "        self.sname=\"p\"\n",
    "        print(\"{} and {}\".format(self.sna,self.sname))\n",
    "s1=sai()\n",
    "s1.priya()"
   ]
  },
  {
   "cell_type": "code",
   "execution_count": 33,
   "id": "0653b33f-6e86-406b-bc2e-6a51ed0254bf",
   "metadata": {},
   "outputs": [
    {
     "name": "stdout",
     "output_type": "stream",
     "text": [
      "the values are 10 and 20\n",
      "the addition is30\n"
     ]
    }
   ],
   "source": [
    "class sum:\n",
    "    def getval(self):\n",
    "        self.a=10\n",
    "        self.b=20\n",
    "    def adding(self):\n",
    "        self.c=self.a+self.b\n",
    "    def display(self):\n",
    "        print(\"the values are {} and {}\".format(self.a,self.b))\n",
    "        print(\"the addition is{}\".format(self.c))\n",
    "s1=sum()\n",
    "s1.getval()\n",
    "s1.adding()\n",
    "s1.display()"
   ]
  },
  {
   "cell_type": "code",
   "execution_count": 57,
   "id": "0368f7b4-8d38-48ed-8b9c-4a8ab8ddada4",
   "metadata": {},
   "outputs": [
    {
     "name": "stdout",
     "output_type": "stream",
     "text": [
      "the 1 and priya\n"
     ]
    }
   ],
   "source": [
    "class sai:\n",
    "    def priya(self):\n",
    "        self.sna=1\n",
    "        self.sname=\"priya\"\n",
    "        print(\"the {} and {}\".format(self.sna,self.sname))\n",
    "sa=sai()\n",
    "sa.priya()"
   ]
  },
  {
   "cell_type": "code",
   "execution_count": 59,
   "id": "042d923d-de73-4ad1-9bce-4cf0a4571414",
   "metadata": {},
   "outputs": [
    {
     "name": "stdout",
     "output_type": "stream",
     "text": [
      " answer is {'sna': 1, 'sname': 'priya'}\n"
     ]
    }
   ],
   "source": [
    "class sai:\n",
    "    def priya(self):\n",
    "        self.sna=1\n",
    "        self.sname=\"priya\"\n",
    "        print(\" answer is\",self.__dict__)\n",
    "sa=sai()\n",
    "sa.priya()"
   ]
  },
  {
   "cell_type": "code",
   "execution_count": 61,
   "id": "dbd90241-e238-4361-b97b-bd2aefd3506e",
   "metadata": {},
   "outputs": [],
   "source": [
    "#  class method"
   ]
  },
  {
   "cell_type": "code",
   "execution_count": 97,
   "id": "1b2662af-f835-4549-9062-c7e9f48075bf",
   "metadata": {},
   "outputs": [
    {
     "name": "stdout",
     "output_type": "stream",
     "text": [
      "the employee detials {'sname': 'sai', 'same': 'po'}\n",
      "the employee loacation india\n"
     ]
    }
   ],
   "source": [
    "# giving one class method and one instance method \n",
    "class sai:\n",
    "    @classmethod\n",
    "    def o(cls):\n",
    "        cls.hy=\"india\"-----------class method writing with cls is the first formal method\n",
    "        \n",
    "    def p(self):\n",
    "        self.sname=\"sai\"\n",
    "        self.same=\"po\"\n",
    "    def display (self):\n",
    "        print(\"the employee detials\",self.__dict__)\n",
    "        print(\"the employee loacation {}\".format(sai.hy))\n",
    "        # print(\"the employee loacation {} \".format(sai.p))\n",
    "sai.o()\n",
    "s1=sai()\n",
    "s1.p()\n",
    "s1.display( )"
   ]
  },
  {
   "cell_type": "code",
   "execution_count": 103,
   "id": "f866935f-fee7-4a8d-be56-95eb1bab386c",
   "metadata": {},
   "outputs": [
    {
     "name": "stdout",
     "output_type": "stream",
     "text": [
      "the employee detials {'sname': 'sai', 'same': 'po'}\n",
      "the employee loacation india\n",
      "the employee detials {'sname': 'si', 'same': 'pooo'}\n",
      "the employee loacation india\n"
     ]
    }
   ],
   "source": [
    "# # giving one class method and two instance method  but getting both instance with one class method so if we write the one class method it can be use to multiple instance method\n",
    "class sai:\n",
    "    @classmethod\n",
    "    def o(cls):\n",
    "        cls.hy=\"india\"\n",
    "        \n",
    "    def p(self):\n",
    "        self.sname=\"sai\"\n",
    "        self.same=\"po\"\n",
    "    def po(self):\n",
    "        self.sname=\"si\"\n",
    "        self.same=\"pooo\"\n",
    "    def display (self):\n",
    "        print(\"the employee detials\",self.__dict__)\n",
    "        print(\"the employee loacation {}\".format(sai.hy))\n",
    "        # print(\"the employee loacation {} \".format(sai.p))\n",
    "sai.o()\n",
    "s1=sai()\n",
    "s2=sai()\n",
    "s1.p()\n",
    "s1.display( )\n",
    "s2.po()\n",
    "s2.display()"
   ]
  },
  {
   "cell_type": "code",
   "execution_count": 105,
   "id": "6b64d54a-5633-40ac-91bb-e22be349f815",
   "metadata": {},
   "outputs": [
    {
     "name": "stdout",
     "output_type": "stream",
     "text": [
      "the employee detials {'sname': 'sai', 'same': 'po'}\n",
      "the employee loacation india\n"
     ]
    }
   ],
   "source": [
    "class sai:\n",
    "    @classmethod\n",
    "    def o(cls):\n",
    "        sai.hy=\"india\"------------class can be called with calass name\n",
    "        \n",
    "    def p(self):\n",
    "        self.sname=\"sai\"\n",
    "        self.same=\"po\"\n",
    "    def display (self):\n",
    "        print(\"the employee detials\",self.__dict__)\n",
    "        print(\"the employee loacation {}\".format(sai.hy))\n",
    "        # print(\"the employee loacation {} \".format(sai.p))\n",
    "sai.o()\n",
    "s1=sai()\n",
    "s1.p()\n",
    "s1.display( )"
   ]
  },
  {
   "cell_type": "code",
   "execution_count": 13,
   "id": "081f6319-0809-40f7-8c0c-6217c71c8f07",
   "metadata": {},
   "outputs": [],
   "source": [
    "# static method"
   ]
  },
  {
   "cell_type": "code",
   "execution_count": 19,
   "id": "17101069-545c-43b5-bbd0-66e8811fad2a",
   "metadata": {},
   "outputs": [
    {
     "name": "stdin",
     "output_type": "stream",
     "text": [
      " 1\n",
      " p\n",
      " p\n",
      " 7\n",
      " 9\n"
     ]
    },
    {
     "name": "stdout",
     "output_type": "stream",
     "text": [
      "student object  infoemation \n",
      "/t stunumber--->1\n",
      "/t stname--->p\n",
      "teacher object  infoemation \n",
      "/t tecname--->p\n",
      "/t tecnumver--->7\n",
      "princplel1 object  infoemation \n",
      "/t priname--->9\n"
     ]
    }
   ],
   "source": [
    "class priyanka:\n",
    "    def student(self):\n",
    "        self.stunumber=int(input())\n",
    "        self.stname=input()\n",
    "class teachers:\n",
    "    def teacher(self):\n",
    "        self.tecname=input()\n",
    "        self.tecnumver=int(input())\n",
    "class princple1:\n",
    "    \n",
    "    def princple(self):\n",
    "        self.priname=int(input())\n",
    "class hyd:\n",
    "    @staticmethod \n",
    "    def sta(obj,objinfo):\n",
    "        print(\"{} object  infoemation \".format(objinfo))\n",
    "        for k,v in obj.__dict__.items():\n",
    "            print(\"/t {}--->{}\".format(k,v))\n",
    "\n",
    "s=priyanka()\n",
    "e=teachers()\n",
    "r=princple1()\n",
    "s.student(\n",
    "e.teacher()\n",
    "r.princple()\n",
    "hyd.sta(s,\"student\")\n",
    "hyd.sta(e,\"teacher\")\n",
    "hyd.sta(r,\"princplel1\")"
   ]
  },
  {
   "cell_type": "code",
   "execution_count": 37,
   "id": "1826561b-59af-4c3e-9667-765a9ac3d618",
   "metadata": {},
   "outputs": [
    {
     "name": "stdin",
     "output_type": "stream",
     "text": [
      " 7\n",
      " priya\n",
      " sai\n",
      " 8\n"
     ]
    },
    {
     "name": "stdout",
     "output_type": "stream",
     "text": [
      "the information iskkkk\n",
      "stunumber============7\n",
      "stname============priya\n",
      "the information isoooooo\n",
      "tecname============sai\n",
      "tecnumver============8\n"
     ]
    }
   ],
   "source": [
    "class priyanka:\n",
    "    def student(self):\n",
    "        self.stunumber=int(input())\n",
    "        self.stname=input()\n",
    "class teachers:\n",
    "    def teacher(self):\n",
    "        self.tecname=input()\n",
    "        self.tecnumver=int(input())\n",
    "class reddy:\n",
    "    @staticmethod\n",
    "    def oo(obj,pppp):\n",
    "        print(\"the information is{}\".format(pppp))\n",
    "        for i ,j in obj.__dict__.items():\n",
    "            print(\"{}============{}\".format(i,j))\n",
    "s1=priyanka()\n",
    "s2=teachers()\n",
    "s1.student()\n",
    "s2.teacher()\n",
    "reddy.oo(s1,\"kkkk\")\n",
    "reddy.oo(s2,\"oooooo\")"
   ]
  },
  {
   "cell_type": "code",
   "execution_count": 45,
   "id": "c71aeb72-8e68-4743-990a-fe73ba70efe0",
   "metadata": {},
   "outputs": [
    {
     "name": "stdin",
     "output_type": "stream",
     "text": [
      " 1\n",
      " priya\n",
      " sai\n",
      " 3\n"
     ]
    },
    {
     "name": "stdout",
     "output_type": "stream",
     "text": [
      "==================================================\n",
      "this is my first staticmethod1\n",
      "stunumber------------------>1\n",
      "stname------------------>priya\n",
      "==================================================\n",
      "this is my first staticmethod2\n",
      "tecname------------------>sai\n",
      "tecnumver------------------>3\n"
     ]
    }
   ],
   "source": [
    "class priyanka:\n",
    "    def student(self):\n",
    "        self.stunumber=int(input())\n",
    "        self.stname=input()\n",
    "class teachers:\n",
    "    def teacher(self):\n",
    "        self.tecname=input()\n",
    "        self.tecnumver=int(input())\n",
    "class reddy:\n",
    "    @staticmethod\n",
    "    def sai(k,i):\n",
    "        print(\"this is my first staticmethod{}\".format(i))\n",
    "        for o,p in k.__dict__.items():\n",
    "            print(\"{}------------------>{}\".format(o,p))\n",
    "s1=priyanka()\n",
    "s2=teachers()\n",
    "s1.student()\n",
    "s2.teacher()\n",
    "print(\"=\"*50)\n",
    "reddy.sai(s1, 1)------------calling the static method by using class name\n",
    "print(\"=\"*50)\n",
    "reddy.sai(s2, 2)"
   ]
  },
  {
   "cell_type": "code",
   "execution_count": 51,
   "id": "9f974488-1782-465e-a262-a637c4756bf6",
   "metadata": {},
   "outputs": [
    {
     "name": "stdin",
     "output_type": "stream",
     "text": [
      " 1\n",
      " s\n",
      " 2\n",
      " 3\n"
     ]
    },
    {
     "name": "stdout",
     "output_type": "stream",
     "text": [
      "==================================================\n",
      "this is my first staticmethod1\n",
      "stunumber------------------>1\n",
      "stname------------------>s\n",
      "==================================================\n",
      "this is my first staticmethod2\n",
      "tecname------------------>2\n",
      "tecnumver------------------>3\n"
     ]
    }
   ],
   "source": [
    "class priyanka:\n",
    "    def student(self):\n",
    "        self.stunumber=int(input())\n",
    "        self.stname=input()\n",
    "class teachers:\n",
    "    def teacher(self):\n",
    "        self.tecname=input()\n",
    "        self.tecnumver=int(input())\n",
    "class reddy:\n",
    "    @staticmethod\n",
    "    def sai(k,i):\n",
    "        print(\"this is my first staticmethod{}\".format(i))\n",
    "        for o,p in k.__dict__.items():\n",
    "            print(\"{}------------------>{}\".format(o,p))\n",
    "s1=priyanka()\n",
    "s2=teachers()\n",
    "s1.student()\n",
    "s2.teacher()\n",
    "print(\"=\"*50)\n",
    "g=reddy()----------------------------calling the static method by using object name\n",
    "g.sai(s1, 1)\n",
    "print(\"=\"*50)\n",
    "g.sai(s2, 2)=====================================accesing  the static method by using object "
   ]
  },
  {
   "cell_type": "code",
   "execution_count": 71,
   "id": "1bf02556-5e68-4d16-a3f6-351e8e4a6fb6",
   "metadata": {},
   "outputs": [
    {
     "name": "stdin",
     "output_type": "stream",
     "text": [
      "Enter number: 11\n",
      "Enter Name: veera\n",
      " sai\n",
      " 22\n"
     ]
    },
    {
     "ename": "AttributeError",
     "evalue": "type object 'ttt' has no attribute 'place'",
     "output_type": "error",
     "traceback": [
      "\u001b[1;31m---------------------------------------------------------------------------\u001b[0m",
      "\u001b[1;31mAttributeError\u001b[0m                            Traceback (most recent call last)",
      "Cell \u001b[1;32mIn[71], line 24\u001b[0m\n\u001b[0;32m     22\u001b[0m s1\u001b[38;5;241m.\u001b[39mstudent()\n\u001b[0;32m     23\u001b[0m s2\u001b[38;5;241m.\u001b[39mteacher()\n\u001b[1;32m---> 24\u001b[0m \u001b[43mttt\u001b[49m\u001b[38;5;241;43m.\u001b[39;49m\u001b[43msai1\u001b[49m\u001b[43m(\u001b[49m\u001b[43ms1\u001b[49m\u001b[43m,\u001b[49m\u001b[38;5;124;43m\"\u001b[39;49m\u001b[38;5;124;43mhi\u001b[39;49m\u001b[38;5;124;43m\"\u001b[39;49m\u001b[43m)\u001b[49m\n\u001b[0;32m     26\u001b[0m \u001b[38;5;28mprint\u001b[39m(\u001b[38;5;124m\"\u001b[39m\u001b[38;5;124m=\u001b[39m\u001b[38;5;124m\"\u001b[39m\u001b[38;5;241m*\u001b[39m\u001b[38;5;241m50\u001b[39m)\n\u001b[0;32m     27\u001b[0m ttt\u001b[38;5;241m.\u001b[39msai1(s1, \u001b[38;5;241m1\u001b[39m)\n",
      "Cell \u001b[1;32mIn[71], line 12\u001b[0m, in \u001b[0;36mttt.sai1\u001b[1;34m(cls, obj, objinf)\u001b[0m\n\u001b[0;32m     10\u001b[0m \u001b[38;5;129m@classmethod\u001b[39m\n\u001b[0;32m     11\u001b[0m \u001b[38;5;28;01mdef\u001b[39;00m \u001b[38;5;21msai1\u001b[39m(\u001b[38;5;28mcls\u001b[39m,obj,objinf):\n\u001b[1;32m---> 12\u001b[0m     \u001b[38;5;28;43mcls\u001b[39;49m\u001b[38;5;241;43m.\u001b[39;49m\u001b[43mplace\u001b[49m(obj,objinf)\n",
      "\u001b[1;31mAttributeError\u001b[0m: type object 'ttt' has no attribute 'place'"
     ]
    }
   ],
   "source": [
    "class priyanka:\n",
    "    def student(self):\n",
    "        self.stunumber=int(input(\"Enter number:\"))\n",
    "        self.stname=input(\"Enter Name:\")\n",
    "class teachers:\n",
    "    def teacher(self):\n",
    "        self.tecname=input()\n",
    "        self.tecnumver=int(input())\n",
    "class ttt:\n",
    "    @classmethod\n",
    "    def sai1(cls,obj,objinf):\n",
    "        cls.place(obj,objinf)\n",
    "    @staticmethod\n",
    "    def sai(obj,objinf):\n",
    "        cls.hi(obj,objinf)\n",
    "        print(\"this is my first staticmethod{}\".format(objinf))\n",
    "        for o,p in k.__dict__.items():\n",
    "            print(\"{}------------------>{}\".format(o,p))\n",
    "s1=priyanka()\n",
    "s2=teachers()\n",
    "\n",
    "s1.student()\n",
    "s2.teacher()\n",
    "ttt.sai1(s1,\"hi\")\n",
    "\n",
    "print(\"=\"*50)\n",
    "ttt.sai1(s1, 1)\n",
    "print(\"=\"*50)\n"
   ]
  },
  {
   "cell_type": "code",
   "execution_count": 69,
   "id": "ef5aee67-45fa-4cbf-bd3a-a8998129f3a3",
   "metadata": {},
   "outputs": [
    {
     "name": "stdin",
     "output_type": "stream",
     "text": [
      "Enter student number:  4\n",
      "Enter student name:  s\n",
      "Enter teacher name:  7\n",
      "Enter teacher number:  7\n"
     ]
    },
    {
     "name": "stdout",
     "output_type": "stream",
     "text": [
      "Class Method called with obj: <__main__.Priyanka object at 0x0000017BC6EE1100>, objinf: hi\n",
      "Display Method called with obj: <__main__.Priyanka object at 0x0000017BC6EE1100>, objinf: hi\n",
      "==================================================\n",
      "Static Method called with obj: <__main__.Priyanka object at 0x0000017BC6EE1100>, objinf: 1\n",
      "This is my first static method: 1\n",
      "stunumber ------------------> 4\n",
      "stname ------------------> s\n",
      "==================================================\n"
     ]
    }
   ],
   "source": [
    "class Priyanka:\n",
    "    def student(self):\n",
    "        self.stunumber = int(input(\"Enter student number: \"))\n",
    "        self.stname = input(\"Enter student name: \")\n",
    "\n",
    "class Teachers:\n",
    "    def teacher(self):\n",
    "        self.tecname = input(\"Enter teacher name: \")\n",
    "        self.tecnumber = int(input(\"Enter teacher number: \"))\n",
    "\n",
    "class TTT:\n",
    "    @classmethod\n",
    "    def sai1(cls, obj, objinf):\n",
    "        print(f\"Class Method called with obj: {obj}, objinf: {objinf}\")\n",
    "        cls.display(obj, objinf)\n",
    "    \n",
    "    @staticmethod\n",
    "    def sai(obj, objinf):\n",
    "        print(f\"Static Method called with obj: {obj}, objinf: {objinf}\")\n",
    "        print(\"This is my first static method: {}\".format(objinf))\n",
    "        for attr, value in obj.__dict__.items():\n",
    "            print(f\"{attr} ------------------> {value}\")\n",
    "    \n",
    "    @classmethod\n",
    "    def display(cls, obj, objinf):\n",
    "        print(f\"Display Method called with obj: {obj}, objinf: {objinf}\")\n",
    "\n",
    "s1 = Priyanka()\n",
    "s2 = Teachers()\n",
    "\n",
    "s1.student()\n",
    "s2.teacher()\n",
    "\n",
    "TTT.sai1(s1, \"hi\")\n",
    "\n",
    "print(\"=\" * 50)\n",
    "TTT.sai(s1, 1)\n",
    "print(\"=\" * 50)\n"
   ]
  },
  {
   "cell_type": "code",
   "execution_count": 1,
   "id": "6174045a-7db8-4dc4-9cfb-f5c1ada714c8",
   "metadata": {},
   "outputs": [],
   "source": [
    "#  constructor \n",
    "constructor is used to initialized the object during object created\n",
    "    constructor looks like __dict__\n",
    "=============================\n",
    "constructor two types----------1.parameterised constructor\n",
    "                    -----------2. default constructor\n",
    "============================\n",
    "1.parameterised constructor\n",
    "                        how we will identify the code is default or parameterized based on parameter\n",
    "                        for default constructor you have only self is the first formal parameter \n",
    "                        for parameterized constructor we have self and other parameter also"
   ]
  },
  {
   "cell_type": "code",
   "execution_count": 5,
   "id": "9c26738d-cc94-4935-a9da-adba9ef8bf39",
   "metadata": {},
   "outputs": [
    {
     "name": "stdout",
     "output_type": "stream",
     "text": [
      "the above inf{} {'sna': 1, 'sname': 'priya'}\n"
     ]
    }
   ],
   "source": [
    "class sai:\n",
    "    def __init__(self,sna,sname):----------------parameterized constructor \n",
    "        self.sna=sna\n",
    "        self.sname=sname\n",
    "        print(\"the above inf{}\",self.__dict__)\n",
    "s=sai(1,\"priya\")\n",
    "\n",
    "        "
   ]
  },
  {
   "cell_type": "code",
   "execution_count": 11,
   "id": "47f85c0f-9be1-4859-ab3a-91b164a2da20",
   "metadata": {},
   "outputs": [
    {
     "name": "stdout",
     "output_type": "stream",
     "text": [
      "the above inf{} {'sna': 1, 'sname': 'priya'}\n"
     ]
    }
   ],
   "source": [
    "class sai:\n",
    "        def __init__(self):-------------------------default constructor\n",
    "            self.sna=1\n",
    "            self.sname=\"priya\"\n",
    "            print(\"the above inf{}\",self.__dict__)\n",
    "s=sai()\n"
   ]
  },
  {
   "cell_type": "code",
   "execution_count": 13,
   "id": "ca18de06-e5ff-4964-ab87-29d406768438",
   "metadata": {},
   "outputs": [
    {
     "name": "stdout",
     "output_type": "stream",
     "text": [
      "the above inf{} {'sna': 1, 'sname': 'priya'}\n"
     ]
    },
    {
     "ename": "TypeError",
     "evalue": "__init__() should return None, not 'int'",
     "output_type": "error",
     "traceback": [
      "\u001b[1;31m---------------------------------------------------------------------------\u001b[0m",
      "\u001b[1;31mTypeError\u001b[0m                                 Traceback (most recent call last)",
      "Cell \u001b[1;32mIn[13], line 8\u001b[0m\n\u001b[0;32m      6\u001b[0m             \u001b[38;5;28mprint\u001b[39m(\u001b[38;5;124m\"\u001b[39m\u001b[38;5;124mthe above inf\u001b[39m\u001b[38;5;132;01m{}\u001b[39;00m\u001b[38;5;124m\"\u001b[39m,\u001b[38;5;28mself\u001b[39m\u001b[38;5;241m.\u001b[39m\u001b[38;5;18m__dict__\u001b[39m)\n\u001b[0;32m      7\u001b[0m             \u001b[38;5;28;01mreturn\u001b[39;00m \u001b[38;5;241m10\u001b[39m\n\u001b[1;32m----> 8\u001b[0m s\u001b[38;5;241m=\u001b[39m\u001b[43msai\u001b[49m\u001b[43m(\u001b[49m\u001b[43m)\u001b[49m\n",
      "\u001b[1;31mTypeError\u001b[0m: __init__() should return None, not 'int'"
     ]
    }
   ],
   "source": [
    "#  constructor does not required the return statement example \n",
    "# when we run this code we will get error as not int\n",
    "class sai:\n",
    "        def __init__(self):\n",
    "            self.sna=1\n",
    "            self.sname=\"priya\"\n",
    "            print(\"the above inf{}\",self.__dict__)\n",
    "            return 10\n",
    "s=sai()\n"
   ]
  },
  {
   "cell_type": "code",
   "execution_count": 15,
   "id": "eddb152a-e8df-49f9-861c-538f0655df16",
   "metadata": {},
   "outputs": [
    {
     "name": "stdout",
     "output_type": "stream",
     "text": [
      "the above inf{} {'sna': 1, 'sname': 'priya'}\n"
     ]
    },
    {
     "ename": "TypeError",
     "evalue": "__init__() should return None, not 'float'",
     "output_type": "error",
     "traceback": [
      "\u001b[1;31m---------------------------------------------------------------------------\u001b[0m",
      "\u001b[1;31mTypeError\u001b[0m                                 Traceback (most recent call last)",
      "Cell \u001b[1;32mIn[15], line 7\u001b[0m\n\u001b[0;32m      5\u001b[0m             \u001b[38;5;28mprint\u001b[39m(\u001b[38;5;124m\"\u001b[39m\u001b[38;5;124mthe above inf\u001b[39m\u001b[38;5;132;01m{}\u001b[39;00m\u001b[38;5;124m\"\u001b[39m,\u001b[38;5;28mself\u001b[39m\u001b[38;5;241m.\u001b[39m\u001b[38;5;18m__dict__\u001b[39m)\n\u001b[0;32m      6\u001b[0m             \u001b[38;5;28;01mreturn\u001b[39;00m \u001b[38;5;241m10.0\u001b[39m\n\u001b[1;32m----> 7\u001b[0m s\u001b[38;5;241m=\u001b[39m\u001b[43msai\u001b[49m\u001b[43m(\u001b[49m\u001b[43m)\u001b[49m\n",
      "\u001b[1;31mTypeError\u001b[0m: __init__() should return None, not 'float'"
     ]
    }
   ],
   "source": [
    "# when we run this code we will get error as not float\n",
    "class sai:\n",
    "        def __init__(self):\n",
    "            self.sna=1\n",
    "            self.sname=\"priya\"\n",
    "            print(\"the above inf{}\",self.__dict__)\n",
    "            return 10.0\n",
    "s=sai()"
   ]
  },
  {
   "cell_type": "code",
   "execution_count": 19,
   "id": "716300ca-8e53-466d-9504-f0206b0afde8",
   "metadata": {},
   "outputs": [
    {
     "name": "stdout",
     "output_type": "stream",
     "text": [
      "the above inf{} {'sna': 1, 'sname': 'priya'}\n"
     ]
    }
   ],
   "source": [
    "# when we run this code we will get output because the return none means ntg\n",
    "class sai:\n",
    "        def __init__(self):\n",
    "            self.sna=1\n",
    "            self.sname=\"priya\"\n",
    "            print(\"the above inf{}\",self.__dict__)\n",
    "            return None\n",
    "s=sai()"
   ]
  },
  {
   "cell_type": "code",
   "execution_count": 47,
   "id": "1817ba19-e6da-4507-9578-067d6b0edae3",
   "metadata": {},
   "outputs": [
    {
     "name": "stdout",
     "output_type": "stream",
     "text": [
      "the above inf{} {'sna': 1, 'sname': 'priya'}\n"
     ]
    },
    {
     "ename": "TypeError",
     "evalue": "sai.__init__() takes 1 positional argument but 3 were given",
     "output_type": "error",
     "traceback": [
      "\u001b[1;31m---------------------------------------------------------------------------\u001b[0m",
      "\u001b[1;31mTypeError\u001b[0m                                 Traceback (most recent call last)",
      "Cell \u001b[1;32mIn[47], line 13\u001b[0m\n\u001b[0;32m     11\u001b[0m         \u001b[38;5;28mprint\u001b[39m(\u001b[38;5;124m\"\u001b[39m\u001b[38;5;124mthe above inf\u001b[39m\u001b[38;5;132;01m{}\u001b[39;00m\u001b[38;5;124m\"\u001b[39m,\u001b[38;5;28mself\u001b[39m\u001b[38;5;241m.\u001b[39m\u001b[38;5;18m__dict__\u001b[39m)\n\u001b[0;32m     12\u001b[0m s\u001b[38;5;241m=\u001b[39msai()\n\u001b[1;32m---> 13\u001b[0m s\u001b[38;5;241m=\u001b[39m\u001b[43msai\u001b[49m\u001b[43m(\u001b[49m\u001b[38;5;241;43m1\u001b[39;49m\u001b[43m,\u001b[49m\u001b[38;5;124;43m\"\u001b[39;49m\u001b[38;5;124;43mpriya\u001b[39;49m\u001b[38;5;124;43m\"\u001b[39;49m\u001b[43m)\u001b[49m\n",
      "\u001b[1;31mTypeError\u001b[0m: sai.__init__() takes 1 positional argument but 3 were given"
     ]
    }
   ],
   "source": [
    "# in this code we get the error beacuse the python we remainer the latest one sai is calling then it goes to the 2 nd constur becauese it is the latest once \n",
    "class sai:\n",
    "    def __init__(self,sna,sname):\n",
    "        self.sna=sna\n",
    "        self.sname=sname\n",
    "        print(\"the above inf{}\",self.__dict__)\n",
    "\n",
    "    def __init__(self):\n",
    "        self.sna=1\n",
    "        self.sname=\"priya\"\n",
    "        print(\"the above inf{}\",self.__dict__)\n",
    "s=sai()\n",
    "s=sai(1,\"priya\")\n"
   ]
  },
  {
   "cell_type": "code",
   "execution_count": 55,
   "id": "f83362f5-9dc0-492e-97e1-e43b97c9f41a",
   "metadata": {},
   "outputs": [
    {
     "name": "stdout",
     "output_type": "stream",
     "text": [
      "the above inf{} {'sna': 1, 'sname': 'priya'}\n",
      "the above inf{} {'sna': 2, 'sname': 'priyanka'}\n"
     ]
    }
   ],
   "source": [
    "#  to over come this problem we use default argument\n",
    "class sai:\n",
    "    def __init__(self,sna=1,sname=\"priya\"):\n",
    "        self.sna=sna\n",
    "        self.sname=sname\n",
    "        print(\"the above inf{}\",self.__dict__)\n",
    "s=sai()\n",
    "s=sai(2,\"priyanka\")\n"
   ]
  },
  {
   "cell_type": "code",
   "execution_count": 64,
   "id": "973037a9-a90b-4224-af73-b0865117e11c",
   "metadata": {},
   "outputs": [],
   "source": [
    "# when we write the program  in jupter by using  oops concept  in the program we will create the some object in the program these object will use memory space from os system   after completing  execution the code now call the garbage collector will remove menory space used by object wil be clear again rellocared to os sysytem     "
   ]
  },
  {
   "cell_type": "code",
   "execution_count": 62,
   "id": "99bac9ff-2fe3-4dd7-848c-3803e2204e8d",
   "metadata": {},
   "outputs": [],
   "source": [
    "# destructor "
   ]
  },
  {
   "cell_type": "code",
   "execution_count": null,
   "id": "d4aa185e-fa80-421d-bf61-bf0cdc051c24",
   "metadata": {},
   "outputs": [],
   "source": [
    "destructor  by default  it consist of garbage collector "
   ]
  },
  {
   "cell_type": "code",
   "execution_count": 1,
   "id": "28583fa8-19b6-46c8-b976-1decc54477b1",
   "metadata": {},
   "outputs": [
    {
     "name": "stdout",
     "output_type": "stream",
     "text": [
      "the above inf{} {'sna': 1, 'sname': 'priya'}\n"
     ]
    }
   ],
   "source": [
    "# non destructor\n",
    "\n",
    "class sai:\n",
    "        def __init__(self):\n",
    "            self.sna=1\n",
    "            self.sname=\"priya\"\n",
    "            print(\"the above inf{}\",self.__dict__)\n",
    "            \n",
    "s=sai()"
   ]
  },
  {
   "cell_type": "code",
   "execution_count": 11,
   "id": "58a90d75-30a3-44f1-b355-7e8e71ba3e69",
   "metadata": {},
   "outputs": [
    {
     "name": "stdout",
     "output_type": "stream",
     "text": [
      "{'sna': 1, 'sname': 2}\n",
      "i am destructor\n"
     ]
    }
   ],
   "source": [
    "# with destructor\n",
    "class sai:\n",
    "    def __init__(self,sna,sname):\n",
    "        self.sna=sna\n",
    "        self.sname=sname\n",
    "        print(self.__dict__)\n",
    "    def __del__(self):------------------------destructor\n",
    "        print(\"i am destructor\")\n",
    "e=sai(1,2)"
   ]
  },
  {
   "cell_type": "code",
   "execution_count": 21,
   "id": "6043bbc9-ad52-4082-af36-b418e79f4785",
   "metadata": {},
   "outputs": [
    {
     "name": "stdout",
     "output_type": "stream",
     "text": [
      "{'sna': 1, 'sname': 'priyanaka'}\n",
      "i am destructor\n",
      "the memory space of s is 48\n"
     ]
    }
   ],
   "source": [
    "# to find the memory space  of any  single  object we use sys.getsizeof(object name)\n",
    "import time,sys\n",
    "class emp:\n",
    "    def __init__(self,sna,sname):\n",
    "        self.sna=sna\n",
    "        self.sname=sname\n",
    "        print(self.__dict__)\n",
    "    def __del__(self):\n",
    "         print(\"i am destructor\")  \n",
    "s=sai(1,\"priyanaka\")\n",
    "w=sys.getsizeof(s)======================size of the object\n",
    "print(\"the memory space of s is\",w)\n",
    "         \n",
    "    "
   ]
  },
  {
   "cell_type": "code",
   "execution_count": 48,
   "id": "af77af32-5b52-4a0a-8a14-b3f1d4005a3e",
   "metadata": {},
   "outputs": [
    {
     "name": "stdout",
     "output_type": "stream",
     "text": [
      "{'sna': 1, 'sname': 'priyanaka'}\n",
      "I am destructor\n",
      "Now available memory space: 96\n",
      "{'sna': 2, 'sname': 'sai'}\n",
      "I am destructor\n",
      "Now available memory space: 48\n",
      "{'sna': 3, 'sname': 'pugitha'}\n",
      "I am destructor\n",
      "Now available memory space: 0\n",
      "the total  memory space of s is 144\n"
     ]
    }
   ],
   "source": [
    "# to find the memory space  of any multiple object we use sys.getsizeof(object name\n",
    "import time,sys\n",
    "class emp:\n",
    "    def __init__(self,sna,sname):\n",
    "        self.sna=sna\n",
    "        self.sname=sname\n",
    "        print(\"{}\".format(self.sna))\n",
    "        print(\"{}\".format(self.sname))\n",
    "    def __del__(self):\n",
    "         print(\"i am destructor\")  \n",
    "         global w\n",
    "         w=w-sys.getsizeof(self)\n",
    "         print(\"now avaliable menory space{}\".format(w))\n",
    "        \n",
    "s=sai(1,\"priyanaka\")\n",
    "s1=sai(2,\"sai\")\n",
    "s3=sai(3,\"pugitha\")\n",
    "w=sys.getsizeof(s)+sys.getsizeof(s1)+sys.getsizeof(s3)\n",
    "\n",
    "print(\"the total  memory space of s is\",w)\n",
    "time.sleep(3)"
   ]
  },
  {
   "cell_type": "code",
   "execution_count": 58,
   "id": "33e23da2-d0ee-4f1f-84aa-75c3769af558",
   "metadata": {},
   "outputs": [
    {
     "name": "stdout",
     "output_type": "stream",
     "text": [
      "{'sna': 1, 'sname': 'priyanaka'}\n",
      "no longer interseted in memory space for s object\n",
      "i am destructor\n",
      "{'sna': 2, 'sname': 'pp'}\n",
      "i am destructor\n"
     ]
    }
   ],
   "source": [
    "# forcefull called destroctor can be done by two ways one is \n",
    "s\n",
    "import time,sys\n",
    "class emp:\n",
    "    def __init__(self,sna,sname):\n",
    "        self.sna=sna\n",
    "        self.sname=sname\n",
    "        print(self.__dict__)\n",
    "    def __del__(self):\n",
    "         print(\"i am destructor\")  \n",
    "s=sai(1,\"priyanaka\")\n",
    "print(\"no longer interseted in memory space for s object\")\n",
    "time.sleep(5)\n",
    "s=None #\"\"\"gc call destructor forcefully\"\"\"\n",
    "s1=sai(2,\"pp\")\n",
    "\n",
    "\n",
    "         "
   ]
  },
  {
   "cell_type": "code",
   "execution_count": null,
   "id": "05fdebbd-be5f-4e29-8831-c322d5c060c0",
   "metadata": {},
   "outputs": [],
   "source": [
    "# automatically calling the destructor\n",
    "import time,sys\n",
    "class emp:\n",
    "    def __init__(self,sna,sname):\n",
    "        self.sna=sna\n",
    "        self.sname=sname\n",
    "        print(self.__dict__)\n",
    "    def __del__(self):\n",
    "         print(\"i am destructor\")  \n",
    "s=sai(1,\"priyanaka\")\n",
    "w=sys.getsizeof(s)======================size of the object\n",
    "print(\"the memory space of s is\",w)\n",
    "         "
   ]
  },
  {
   "cell_type": "code",
   "execution_count": 62,
   "id": "0f0d9aaa-26da-471e-bf7c-5622ea2160d0",
   "metadata": {},
   "outputs": [
    {
     "name": "stdout",
     "output_type": "stream",
     "text": [
      "main program\n",
      "{'sna': 1, 'sname': 2}\n",
      "i am destructor\n",
      "no longer interset in menory space\n",
      "i am destructor\n",
      "{'sna': 2, 'sname': 'Yy'}\n"
     ]
    }
   ],
   "source": [
    "class sai:\n",
    "    def __init__(self,sna,sname):\n",
    "        self.sna=sna\n",
    "        self.sname=sname\n",
    "        print(self.__dict__)\n",
    "    def __del__(self):\n",
    "        print(\"i am destructor\")\n",
    "print(\"main program\")\n",
    "e=sai(1,2)\n",
    "print(\"no longer interset in menory space\")\n",
    "time.sleep(3)\n",
    "del e\n",
    "e2=sai(2,\"Yy\")\n"
   ]
  },
  {
   "cell_type": "code",
   "execution_count": 66,
   "id": "f6cc2b3c-d4cb-4177-8482-46c1e0d33477",
   "metadata": {},
   "outputs": [
    {
     "name": "stdout",
     "output_type": "stream",
     "text": [
      "main program\n",
      "{'sna': 1, 'sname': 2}\n",
      "i am destructor\n",
      "completed\n"
     ]
    }
   ],
   "source": [
    "# new one\n",
    "class sai:\n",
    "    def __init__(self,sna,sname):\n",
    "        self.sna=sna\n",
    "        self.sname=sname\n",
    "        print(self.__dict__)\n",
    "    def __del__(self):\n",
    "        print(\"i am destructor\")\n",
    "print(\"main program\")\n",
    "e=sai(1,2)\n",
    "w=e # deep copy\n",
    "r=w\n",
    "print(\"completed\")\n",
    "time.sleep(3)"
   ]
  },
  {
   "cell_type": "code",
   "execution_count": null,
   "id": "4d4689aa-70e4-45bc-bd3d-23f1874500ff",
   "metadata": {},
   "outputs": [],
   "source": []
  },
  {
   "cell_type": "code",
   "execution_count": null,
   "id": "8e69b06d-6fae-4169-b5ee-47807a1ddf6a",
   "metadata": {},
   "outputs": [],
   "source": []
  },
  {
   "cell_type": "code",
   "execution_count": null,
   "id": "3effb07e-356d-4c0a-b58e-32a8a6599ab9",
   "metadata": {},
   "outputs": [],
   "source": []
  },
  {
   "cell_type": "code",
   "execution_count": null,
   "id": "abfa6597-8c4f-4cfa-93f9-23f37c16eedb",
   "metadata": {},
   "outputs": [],
   "source": []
  },
  {
   "cell_type": "code",
   "execution_count": null,
   "id": "543673a1-5b8f-4473-9043-2c22cdd913fa",
   "metadata": {},
   "outputs": [],
   "source": []
  },
  {
   "cell_type": "code",
   "execution_count": null,
   "id": "3f9e6d9a-aafd-4fc5-9283-3239e2a93bea",
   "metadata": {},
   "outputs": [],
   "source": []
  },
  {
   "cell_type": "code",
   "execution_count": null,
   "id": "1d2903d1-184d-4972-82ed-f140932c7d5d",
   "metadata": {},
   "outputs": [],
   "source": []
  },
  {
   "cell_type": "code",
   "execution_count": null,
   "id": "a4a875b2-7a4a-4fc5-a0fe-f4e6bce05a34",
   "metadata": {},
   "outputs": [],
   "source": []
  },
  {
   "cell_type": "code",
   "execution_count": null,
   "id": "a4c8a4ae-0b3f-46ef-8ce1-d3a649958274",
   "metadata": {},
   "outputs": [],
   "source": []
  },
  {
   "cell_type": "code",
   "execution_count": null,
   "id": "558be8a4-61b6-4293-a8b9-6c0391818e5b",
   "metadata": {},
   "outputs": [],
   "source": []
  },
  {
   "cell_type": "code",
   "execution_count": null,
   "id": "ca05982e-3877-4e0d-b0a1-844b7d6c2ee0",
   "metadata": {},
   "outputs": [],
   "source": []
  },
  {
   "cell_type": "code",
   "execution_count": null,
   "id": "fd4c5161-f7ff-46ee-98d7-8968f2da4ea7",
   "metadata": {},
   "outputs": [],
   "source": []
  },
  {
   "cell_type": "code",
   "execution_count": null,
   "id": "be604209-5c77-421f-a4cb-824ccb0359bc",
   "metadata": {},
   "outputs": [],
   "source": []
  },
  {
   "cell_type": "code",
   "execution_count": null,
   "id": "31b63df9-4f35-4d08-8d2f-b627c0300be6",
   "metadata": {},
   "outputs": [],
   "source": []
  },
  {
   "cell_type": "code",
   "execution_count": null,
   "id": "0f67dd22-8464-4cec-a296-8d7a3d4e8eef",
   "metadata": {},
   "outputs": [],
   "source": []
  },
  {
   "cell_type": "code",
   "execution_count": 31,
   "id": "29254c4e-43c5-48ea-a5d1-0763eef35a2b",
   "metadata": {},
   "outputs": [
    {
     "name": "stdout",
     "output_type": "stream",
     "text": [
      "{}\n",
      "{'a': 10}\n",
      "{'a': 10, 'b': 11}\n",
      "{'a': 10, 'b': 11, 'c': 13}\n",
      "the sum is34\n",
      "{'a': 10, 'b': 11, 'c': 13, 'd': 34}\n"
     ]
    }
   ],
   "source": [
    "class P:\n",
    "    def student(self):\n",
    "        self.a = 10\n",
    "       \n",
    "\n",
    "class T(P):\n",
    "    def teacher(self):\n",
    "        self.b = 11\n",
    "        \n",
    "      \n",
    "class s(T):\n",
    "    def prin(self):\n",
    "        self.c=13\n",
    "    def results(self):\n",
    "        self.d=self.a+self.b+self.c\n",
    "        print(\"the sum is{}\".format(self.d))\n",
    "    \n",
    "k=s()\n",
    "print(k.__dict__)\n",
    "\n",
    "k.student()\n",
    "print(k.__dict__)\n",
    "k.teacher()\n",
    "print(k.__dict__)\n",
    "k.prin()\n",
    "print(k.__dict__)\n",
    "k.results()\n",
    "print(k.__dict__)"
   ]
  },
  {
   "cell_type": "code",
   "execution_count": 51,
   "id": "0db46833-e483-47cb-a6e4-6503a37a0b30",
   "metadata": {},
   "outputs": [
    {
     "name": "stdout",
     "output_type": "stream",
     "text": [
      "the answer is  {'a': 10, 'b': 11}\n"
     ]
    }
   ],
   "source": [
    "class sai:\n",
    "    def ss(self):\n",
    "        self.a=10\n",
    "class priya(sai):\n",
    "    def dd(self):\n",
    "        a.ss()\n",
    "        self.b=11\n",
    "        \n",
    "        \n",
    "a=priya()\n",
    "a.dd()\n",
    "print(\"the answer is \",a.__dict__)\n",
    "\n"
   ]
  },
  {
   "cell_type": "code",
   "execution_count": 73,
   "id": "f6236903-d072-4670-8ec9-d54c4b969e1d",
   "metadata": {},
   "outputs": [
    {
     "name": "stdout",
     "output_type": "stream",
     "text": [
      "the information is {'name': 'sai', 'password': 123, 'balance': 12345}\n"
     ]
    }
   ],
   "source": [
    "class information:\n",
    "    def details(self):\n",
    "        self.name=\"sai\"\n",
    "        self.password=123\n",
    "        self.balance=12345\n",
    "    def display(self):\n",
    "        print(\"the information is\",self.__dict__)\n",
    "a=information()\n",
    "a.details()\n",
    "a.display()"
   ]
  },
  {
   "cell_type": "code",
   "execution_count": 119,
   "id": "1e09b1a2-d6e6-4796-9ea5-bac89900fd85",
   "metadata": {},
   "outputs": [
    {
     "ename": "TabError",
     "evalue": "inconsistent use of tabs and spaces in indentation (<string>, line 8)",
     "output_type": "error",
     "traceback": [
      "\u001b[1;36m  File \u001b[1;32m<string>:8\u001b[1;36m\u001b[0m\n\u001b[1;33m    print(\"the inf is {}\".format(self.__password))\u001b[0m\n\u001b[1;37m                                                  ^\u001b[0m\n\u001b[1;31mTabError\u001b[0m\u001b[1;31m:\u001b[0m inconsistent use of tabs and spaces in indentation\n"
     ]
    }
   ],
   "source": [
    "class Information:\n",
    "    def details(self):\n",
    "        self.name=\"sai\"\n",
    "        self.__password=123\n",
    "        self.balance=12345\n",
    "    def display(self):\n",
    "            print(\"the information is {}\".format(self.name))\n",
    "        \tprint(\"the inf is {}\".format(self.__password))\n",
    "        \tprint(\"the good news {}\".format(self.balance))\n",
    "a=Information()\n",
    "a.details()\n",
    "a.display()"
   ]
  },
  {
   "cell_type": "code",
   "execution_count": 110,
   "id": "5e920120-196c-4b58-9ef0-f67b245ace65",
   "metadata": {},
   "outputs": [
    {
     "name": "stdout",
     "output_type": "stream",
     "text": [
      "The information is: sai\n",
      "The password is: 123\n",
      "The balance is: 12345\n"
     ]
    }
   ],
   "source": [
    "class Information:\n",
    "    def details(self):\n",
    "        self.name = \"sai\"\n",
    "        self.__password = 123\n",
    "        self.balance = 12345\n",
    "    \n",
    "    def display(self):\n",
    "        print(\"The information is: {}\".format(self.name))\n",
    "        print(\"The password is: {}\".format(self.__password))\n",
    "        print(\"The balance is: {}\".format(self.balance))\n",
    "\n",
    "a = Information()\n",
    "a.details()\n",
    "a.display()\n"
   ]
  },
  {
   "cell_type": "code",
   "execution_count": 131,
   "id": "58d86ed8-b412-48b1-ae90-583317ed9b9e",
   "metadata": {},
   "outputs": [
    {
     "name": "stdout",
     "output_type": "stream",
     "text": [
      "the inf is 0\n",
      "the inf is sai\n"
     ]
    }
   ],
   "source": [
    "class sai:\n",
    "    def priya(self):\n",
    "        self.qq = 0\n",
    "        self.__name=\"sai\"\n",
    "    def result(self):\n",
    "        print(\"the inf is {}\".format(self.qq))\n",
    "        print(\"the inf is {}\".format(self.__name))\n",
    "a=sai()\n",
    "a.priya()\n",
    "a.result()"
   ]
  },
  {
   "cell_type": "code",
   "execution_count": 11,
   "id": "d67b72da-12d7-4504-b08f-ece395e59ea0",
   "metadata": {},
   "outputs": [
    {
     "name": "stdout",
     "output_type": "stream",
     "text": [
      "In Class4\n",
      "In Class2\n",
      "In Class1\n"
     ]
    }
   ],
   "source": [
    "class Class1:\n",
    "    def m(self):\n",
    "        print(\"In Class1\")\n",
    " \n",
    "class Class2(Class1):\n",
    "    def m(self):\n",
    "        print(\"In Class2\")\n",
    "        super().m()\n",
    " \n",
    "class Class3(Class1):\n",
    "    def m(self):\n",
    "        print(\"In Class3\")\n",
    "        super().m()\n",
    " \n",
    "class Class4(Class2, Class1):\n",
    "    def m(self):\n",
    "        print(\"In Class4\")\n",
    "        super().m()\n",
    " \n",
    "obj = Class4()\n",
    "obj.m()"
   ]
  },
  {
   "cell_type": "code",
   "execution_count": 13,
   "id": "2b42979b-f078-4b7c-a596-852aa9e18caa",
   "metadata": {},
   "outputs": [
    {
     "ename": "SyntaxError",
     "evalue": "unterminated string literal (detected at line 1) (2700508689.py, line 1)",
     "output_type": "error",
     "traceback": [
      "\u001b[1;36m  Cell \u001b[1;32mIn[13], line 1\u001b[1;36m\u001b[0m\n\u001b[1;33m    ';lkjh'[;olkijhygfrdwsq12qz3xs4dc5fvgbuhnjmok,pl.[;/']def m(self):\u001b[0m\n\u001b[1;37m                                                        ^\u001b[0m\n\u001b[1;31mSyntaxError\u001b[0m\u001b[1;31m:\u001b[0m unterminated string literal (detected at line 1)\n"
     ]
    }
   ],
   "source": [
    "\n",
    "';lkjh'[;olkijhygfrdwsq12qz3xs4dc5fvgbuhnjmok,pl.[;/']def m(self):\n",
    "        print(\"In Class2\")\n",
    "        super().m()\n",
    " \n",
    "class Class3(Class1):\n",
    "    def m(self):\n",
    "        print(\"In Class3\")\n",
    "        super().m()\n",
    " \n",
    "class Class4(Class2, Class1):\n",
    "    def m(self):\n",
    "        print(\"In Class4\")\n",
    "        super().m()\n",
    " \n",
    "obj = Class4()\n",
    "obj.m()"
   ]
  },
  {
   "cell_type": "markdown",
   "id": "e4cd7dd0-c267-485a-a030-95a71df40b33",
   "metadata": {
    "jp-MarkdownHeadingCollapsed": true
   },
   "source": [
    "class Class1:\n",
    "    def m(self):\n",
    "        print(\"In Class1\")\n",
    " \n",
    "class Class2(Class1):\n",
    "    def m(self):\n",
    "print(\"In Class2\")\n",
    "super().m()\n",
    " \n",
    "class Class3(Class1):\n",
    "def m(self):\n",
    "print(\"In Class3\")\n",
    "super().m()\n",
    " \n",
    "class Class4(Class2, Class3):\n",
    "def m(self):\n",
    "print(\"In Class4\")\n",
    "super().m()\n",
    " \n",
    "obj = Class4()\n",
    "obj.m()"
   ]
  },
  {
   "cell_type": "code",
   "execution_count": 68,
   "id": "a8ed8eba-5a22-4bc2-a511-b6bfdc9b5135",
   "metadata": {},
   "outputs": [
    {
     "name": "stdout",
     "output_type": "stream",
     "text": [
      "In Class4\n",
      "In Class3\n",
      "In Class1\n"
     ]
    }
   ],
   "source": [
    "class Class1:\n",
    "    def m(self):\n",
    "        print(\"In Class1\")\n",
    " \n",
    "class Class2(Class1):\n",
    "    def m(self):\n",
    "        print(\"In Class2\")\n",
    "        super().m()\n",
    "         \n",
    "class Class3(Class2):\n",
    "    def m(self):\n",
    "        print(\"In Class3\")\n",
    "        Class1().m()\n",
    " \n",
    "class Class4(Class3,Class2):\n",
    "    def m(self):\n",
    "        print(\"In Class4\")\n",
    "        super().m()\n",
    "         \n",
    "obj = Class4()\n",
    "obj.m()"
   ]
  },
  {
   "cell_type": "code",
   "execution_count": 38,
   "id": "710d2316-44fe-4572-9c5d-7d4b01c14505",
   "metadata": {},
   "outputs": [
    {
     "name": "stdout",
     "output_type": "stream",
     "text": [
      "In Class3\n",
      "In Class2\n"
     ]
    }
   ],
   "source": [
    "class Class1:\n",
    "    def m(self):\n",
    "        print(\"In Class1\")\n",
    " \n",
    "class Class2(Class1):\n",
    "    def m(self):\n",
    "        print(\"In Class2\")\n",
    "        #super().m()\n",
    "class Class3(Class2,Class1):\n",
    "    def m(self):\n",
    "        print(\"In Class3\")\n",
    "        super().m()\n",
    "        \n",
    "obj = Class3()\n",
    "obj.m()"
   ]
  },
  {
   "cell_type": "code",
   "execution_count": 1,
   "id": "ea03d59b-6eb7-4d03-aee0-c57f719c9f02",
   "metadata": {},
   "outputs": [
    {
     "name": "stdout",
     "output_type": "stream",
     "text": [
      "i am very good\n"
     ]
    }
   ],
   "source": [
    "# polymorphism\n",
    "class sai:\n",
    "    def priya(self):\n",
    "        print(\"i am good\")# original content\n",
    "class priya:\n",
    "    def priya(self):\n",
    "        print(\"i am very good\")# method overriden\n",
    "a=priya()\n",
    "a.priya()"
   ]
  },
  {
   "cell_type": "code",
   "execution_count": 15,
   "id": "fc465be0-b8b6-4636-8a6d-d6f5394ef2b9",
   "metadata": {},
   "outputs": [
    {
     "name": "stdout",
     "output_type": "stream",
     "text": [
      "i am very good\n",
      "i am good\n"
     ]
    }
   ],
   "source": [
    "# polymorphism and method overridden by using super\n",
    "#method 1\n",
    "class sai:\n",
    "    def priya(self):\n",
    "        print(\"i am good\")# original content\n",
    "class priya1(sai):\n",
    "    def priya(self):\n",
    "        print(\"i am very good\")# method overriden\n",
    "        super().priya()\n",
    "a=priya1()\n",
    "a.priya()"
   ]
  },
  {
   "cell_type": "code",
   "execution_count": 17,
   "id": "892c09d5-d00d-46d8-bafe-da8ebf37f3c7",
   "metadata": {},
   "outputs": [
    {
     "name": "stdout",
     "output_type": "stream",
     "text": [
      "i am very good\n",
      "i am good\n"
     ]
    }
   ],
   "source": [
    "# method 2\n",
    "class sai:\n",
    "    def priya(self):\n",
    "        print(\"i am good\")# original content\n",
    "class priya:\n",
    "    def priya(self):\n",
    "        print(\"i am very good\")# method overriden\n",
    "        sai.priya(self)\n",
    "a=priya()\n",
    "a.priya()"
   ]
  },
  {
   "cell_type": "code",
   "execution_count": null,
   "id": "2e5e28b3-e3ca-4ebe-8b58-a22758b19dec",
   "metadata": {},
   "outputs": [],
   "source": [
    "class s1:\n",
    "    def c1(self):\n",
    "        print(\"i am good\")# original content\n",
    "class s2(s1):\n",
    "    ded(self):\n",
    "        print(\"i am very good\")# method overriden\n",
    "class s3(s2,s1):\n",
    "    def \n",
    "    def \n",
    "a=priya()\n",
    "a.priya()"
   ]
  },
  {
   "cell_type": "code",
   "execution_count": null,
   "id": "45bf906a-aa37-4bde-b795-37f0ce1443f6",
   "metadata": {},
   "outputs": [],
   "source": [
    "class c1:\n",
    "    def sai(self):\n",
    "        print(\"hi\")\n",
    "class c2:\n",
    "    def sai1(self):\n",
    "        print(\"hello\")\n",
    "        c3.sai2()\n",
    "class c3:\n",
    "    def sai2(self):\n",
    "        print(\"gm\")\n",
    "class c4():\n",
    "    def sai3(self):\n",
    "        print(\"gn\")\n",
    "        super()\n",
    "a=        \n",
    "        "
   ]
  },
  {
   "cell_type": "code",
   "execution_count": null,
   "id": "481e4736-937a-452e-bb07-7937b63ec4ca",
   "metadata": {},
   "outputs": [],
   "source": [
    "hello\n",
    "gm\n",
    "gn\n",
    "hi"
   ]
  },
  {
   "cell_type": "code",
   "execution_count": 43,
   "id": "763f8f7c-0382-43d6-bd8f-bdce43efaa97",
   "metadata": {},
   "outputs": [
    {
     "name": "stdout",
     "output_type": "stream",
     "text": [
      "gr\n"
     ]
    }
   ],
   "source": [
    "import re\n",
    "s=\"python is a programing lang\"\n",
    "a=re.finditer('gr',s)\n",
    "for i in a:\n",
    "    print(i.group())"
   ]
  },
  {
   "cell_type": "code",
   "execution_count": null,
   "id": "aab7376d-6b91-4bbd-8e20-f7f09833ba04",
   "metadata": {},
   "outputs": [],
   "source": []
  },
  {
   "cell_type": "code",
   "execution_count": null,
   "id": "21e20c78-d523-4a43-b2dc-6a9b15b192e4",
   "metadata": {},
   "outputs": [],
   "source": []
  },
  {
   "cell_type": "code",
   "execution_count": null,
   "id": "3df3daf5-1d20-49f9-bdea-2e70ad19a93f",
   "metadata": {},
   "outputs": [],
   "source": []
  },
  {
   "cell_type": "code",
   "execution_count": 3,
   "id": "4c488cee-511b-480a-a2c5-cb713cfb7b4c",
   "metadata": {},
   "outputs": [
    {
     "name": "stdout",
     "output_type": "stream",
     "text": [
      "{'name': 'sai', 'mob': 123}\n",
      "{'name': 'priya'}\n"
     ]
    }
   ],
   "source": [
    "class sai:\n",
    "    pass\n",
    "a=sai()\n",
    "b=sai()\n",
    "a.name=\"sai\"\n",
    "a.mob=123\n",
    "b.name=\"priya\"\n",
    "print(a.__dict__)\n",
    "print(b.__dict__)"
   ]
  },
  {
   "cell_type": "code",
   "execution_count": 27,
   "id": "38bddbd3-5421-4b0e-ae17-09ad273150b9",
   "metadata": {},
   "outputs": [
    {
     "name": "stdout",
     "output_type": "stream",
     "text": [
      "sai\n",
      "123\n",
      "computer\n",
      "{'name': 'priya'}\n",
      "computer\n"
     ]
    }
   ],
   "source": [
    "class sai:\n",
    "    crs=\"computer\"\n",
    "a=sai()\n",
    "b=sai()\n",
    "a.name=\"sai\"\n",
    "a.mob=123\n",
    "b.name=\"priya\"\n",
    "\n",
    "print(\"{}\".format(a.name))\n",
    "print(\"{}\".format(a.mob))\n",
    "print(\"{}\".format(a.crs))\n",
    "\n",
    "print(b.__dict__)\n",
    "print(\"{}\".format(b.crs))       "
   ]
  },
  {
   "cell_type": "code",
   "execution_count": null,
   "id": "9b2becb2-fa54-4f21-831e-7539f265a71f",
   "metadata": {},
   "outputs": [],
   "source": [
    "3 methid"
   ]
  },
  {
   "cell_type": "code",
   "execution_count": 33,
   "id": "890f6a38-e7a2-47e4-9e59-9b1146fd6049",
   "metadata": {},
   "outputs": [
    {
     "name": "stdout",
     "output_type": "stream",
     "text": [
      "{'sna': 1, 'sname': 2}\n"
     ]
    }
   ],
   "source": [
    "class c1:\n",
    "    def s1(self):\n",
    "        self.sna=1\n",
    "        self.sname=2\n",
    "a=c1()\n",
    "a.s1()\n",
    "print(a.__dict__)"
   ]
  },
  {
   "cell_type": "code",
   "execution_count": 55,
   "id": "ed02beca-bc92-4836-8ca2-1c81848addc1",
   "metadata": {},
   "outputs": [
    {
     "ename": "AttributeError",
     "evalue": "'c6' object has no attribute 'cls'",
     "output_type": "error",
     "traceback": [
      "\u001b[1;31m---------------------------------------------------------------------------\u001b[0m",
      "\u001b[1;31mAttributeError\u001b[0m                            Traceback (most recent call last)",
      "Cell \u001b[1;32mIn[55], line 19\u001b[0m\n\u001b[0;32m     17\u001b[0m p\u001b[38;5;241m.\u001b[39mc2()\n\u001b[0;32m     18\u001b[0m p\u001b[38;5;241m.\u001b[39mc3()\n\u001b[1;32m---> 19\u001b[0m \u001b[38;5;28mprint\u001b[39m(\u001b[38;5;124m\"\u001b[39m\u001b[38;5;124mthe \u001b[39m\u001b[38;5;132;01m{}\u001b[39;00m\u001b[38;5;124m\"\u001b[39m\u001b[38;5;241m.\u001b[39mformat(\u001b[43mp\u001b[49m\u001b[38;5;241;43m.\u001b[39;49m\u001b[43mcls\u001b[49m))\n\u001b[0;32m     20\u001b[0m \u001b[38;5;28mprint\u001b[39m(c1\u001b[38;5;241m.\u001b[39m\u001b[38;5;18m__dict__\u001b[39m)\n\u001b[0;32m     21\u001b[0m \u001b[38;5;28mprint\u001b[39m(c2\u001b[38;5;241m.\u001b[39m\u001b[38;5;18m__dict__\u001b[39m)\n",
      "\u001b[1;31mAttributeError\u001b[0m: 'c6' object has no attribute 'cls'"
     ]
    }
   ],
   "source": [
    "class c6:\n",
    "    @classmethod\n",
    "    def sai(cls):\n",
    "        cls.brach=\"ece\"\n",
    "    def c1(self):\n",
    "        self.sname=\"sai\"\n",
    "        self.sna=1\n",
    "    def c2(self):\n",
    "        self.sname=\"sa\"\n",
    "        self.sna=2\n",
    "    def c3(self):\n",
    "        self.sname=\"s\"\n",
    "        self.sna=3\n",
    "p=c6()\n",
    "p.sai()\n",
    "p.c1()\n",
    "p.c2()\n",
    "p.c3()\n",
    "print(\"the {}\".format(cls.))\n",
    "print(c1.__dict__)\n",
    "print(c2.__dict__)\n",
    "print(c3.__dict__)"
   ]
  },
  {
   "cell_type": "code",
   "execution_count": null,
   "id": "b86f361a-2692-4ff6-8017-04f8bb786062",
   "metadata": {},
   "outputs": [],
   "source": []
  },
  {
   "cell_type": "code",
   "execution_count": null,
   "id": "03528145-8bb3-4a8d-9e27-13f71b524abe",
   "metadata": {},
   "outputs": [],
   "source": []
  },
  {
   "cell_type": "code",
   "execution_count": null,
   "id": "51fc667d-6c36-4f04-b8f4-ad4629b2584a",
   "metadata": {},
   "outputs": [],
   "source": []
  },
  {
   "cell_type": "code",
   "execution_count": null,
   "id": "c35fb8c6-4583-4660-b710-34df4d766383",
   "metadata": {},
   "outputs": [],
   "source": []
  },
  {
   "cell_type": "code",
   "execution_count": null,
   "id": "bbd42d35-a838-46b0-9985-2ccd096cda39",
   "metadata": {},
   "outputs": [],
   "source": []
  },
  {
   "cell_type": "code",
   "execution_count": null,
   "id": "a74343b3-4695-4daf-b54c-0b18cbacd5cc",
   "metadata": {},
   "outputs": [],
   "source": []
  },
  {
   "cell_type": "code",
   "execution_count": null,
   "id": "3e9a5581-00c1-4969-9d14-75fc3834af55",
   "metadata": {},
   "outputs": [],
   "source": []
  },
  {
   "cell_type": "code",
   "execution_count": null,
   "id": "adafe8cd-cd0d-4031-ba97-8bc893fe02be",
   "metadata": {},
   "outputs": [],
   "source": []
  },
  {
   "cell_type": "code",
   "execution_count": null,
   "id": "86dd744b-a97c-499d-b0c7-1252b4655137",
   "metadata": {},
   "outputs": [],
   "source": []
  },
  {
   "cell_type": "code",
   "execution_count": null,
   "id": "f5b06e7d-8978-4c9b-8ef7-14beebd944bb",
   "metadata": {},
   "outputs": [],
   "source": []
  },
  {
   "cell_type": "code",
   "execution_count": null,
   "id": "33cc3567-e04a-44bd-a4f8-3589399b5462",
   "metadata": {},
   "outputs": [],
   "source": []
  }
 ],
 "metadata": {
  "kernelspec": {
   "display_name": "Python 3 (ipykernel)",
   "language": "python",
   "name": "python3"
  },
  "language_info": {
   "codemirror_mode": {
    "name": "ipython",
    "version": 3
   },
   "file_extension": ".py",
   "mimetype": "text/x-python",
   "name": "python",
   "nbconvert_exporter": "python",
   "pygments_lexer": "ipython3",
   "version": "3.12.4"
  }
 },
 "nbformat": 4,
 "nbformat_minor": 5
}
